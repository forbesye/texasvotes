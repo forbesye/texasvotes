{
 "metadata": {
  "language_info": {
   "codemirror_mode": {
    "name": "ipython",
    "version": 3
   },
   "file_extension": ".py",
   "mimetype": "text/x-python",
   "name": "python",
   "nbconvert_exporter": "python",
   "pygments_lexer": "ipython3",
   "version": "3.6.8-final"
  },
  "orig_nbformat": 2,
  "kernelspec": {
   "name": "Python 3.6.8 64-bit",
   "display_name": "Python 3.6.8 64-bit",
   "metadata": {
    "interpreter": {
     "hash": "31f2aee4e71d21fbe5cf8b01ff0e069b9275f58929596ceb00d14d90e3e16cd6"
    }
   }
  }
 },
 "nbformat": 4,
 "nbformat_minor": 2,
 "cells": [
  {
   "cell_type": "code",
   "execution_count": 1,
   "metadata": {},
   "outputs": [],
   "source": [
    "# imports\n",
    "\n",
    "import pandas as pd "
   ]
  },
  {
   "cell_type": "code",
   "execution_count": 15,
   "metadata": {},
   "outputs": [],
   "source": [
    "# set up some paths\n",
    "\n",
    "raw_dir = \"raw-csvs/\"\n",
    "output_dir = \"processed-csvs/\"\n",
    "\n",
    "header = [\"Candidate Name\", \"Incumbent\", \"Office Name\", \"Party\", \"Email\"]"
   ]
  },
  {
   "cell_type": "code",
   "execution_count": 16,
   "metadata": {
    "tags": []
   },
   "outputs": [],
   "source": [
    "# loop through files in raw directory and process each of them\n",
    "for filename in os.listdir(raw_dir):\n",
    "    # Missing: District, Phone\n",
    "    data = pd.read_csv(raw_dir + filename)\n",
    "    data.to_csv(output_dir + filename, columns = header)"
   ]
  }
 ]
}